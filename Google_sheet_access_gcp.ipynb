{
  "nbformat": 4,
  "nbformat_minor": 0,
  "metadata": {
    "colab": {
      "name": "Google_sheet_access_gcp",
      "provenance": [],
      "collapsed_sections": [],
      "include_colab_link": true
    },
    "kernelspec": {
      "display_name": "Python 3",
      "name": "python3"
    }
  },
  "cells": [
    {
      "cell_type": "markdown",
      "metadata": {
        "id": "view-in-github",
        "colab_type": "text"
      },
      "source": [
        "<a href=\"https://colab.research.google.com/github/moneshj/Cloud_Computing_Notes/blob/main/Google_sheet_access_gcp.ipynb\" target=\"_parent\"><img src=\"https://colab.research.google.com/assets/colab-badge.svg\" alt=\"Open In Colab\"/></a>"
      ]
    },
    {
      "cell_type": "markdown",
      "metadata": {
        "id": "NzGo3qhEoL4a"
      },
      "source": [
        "# Google Spreadsheets as your database using Python"
      ]
    },
    {
      "cell_type": "markdown",
      "metadata": {
        "id": "fQQVCWbHm_rn"
      },
      "source": [
        "\n",
        "\n",
        "*   https://medium.datadriveninvestor.com/use-google-sheets-as-your-database-using-python-77d40009860f\n",
        "*   https://www.geeksforgeeks.org/using-google-sheets-as-database-in-python/\n",
        "\n",
        "\n"
      ]
    },
    {
      "cell_type": "code",
      "metadata": {
        "colab": {
          "base_uri": "https://localhost:8080/"
        },
        "id": "Oo3fQ0NyjtZ2",
        "outputId": "4f16f33c-4e5f-4f20-95db-6e004dca3385"
      },
      "source": [
        "!pip install gspread oauth2client "
      ],
      "execution_count": null,
      "outputs": [
        {
          "output_type": "stream",
          "name": "stdout",
          "text": [
            "Requirement already satisfied: gspread in /usr/local/lib/python3.7/dist-packages (3.0.1)\n",
            "Requirement already satisfied: oauth2client in /usr/local/lib/python3.7/dist-packages (4.1.3)\n",
            "Requirement already satisfied: requests>=2.2.1 in /usr/local/lib/python3.7/dist-packages (from gspread) (2.23.0)\n",
            "Requirement already satisfied: certifi>=2017.4.17 in /usr/local/lib/python3.7/dist-packages (from requests>=2.2.1->gspread) (2021.5.30)\n",
            "Requirement already satisfied: urllib3!=1.25.0,!=1.25.1,<1.26,>=1.21.1 in /usr/local/lib/python3.7/dist-packages (from requests>=2.2.1->gspread) (1.24.3)\n",
            "Requirement already satisfied: chardet<4,>=3.0.2 in /usr/local/lib/python3.7/dist-packages (from requests>=2.2.1->gspread) (3.0.4)\n",
            "Requirement already satisfied: idna<3,>=2.5 in /usr/local/lib/python3.7/dist-packages (from requests>=2.2.1->gspread) (2.10)\n",
            "Requirement already satisfied: pyasn1-modules>=0.0.5 in /usr/local/lib/python3.7/dist-packages (from oauth2client) (0.2.8)\n",
            "Requirement already satisfied: pyasn1>=0.1.7 in /usr/local/lib/python3.7/dist-packages (from oauth2client) (0.4.8)\n",
            "Requirement already satisfied: six>=1.6.1 in /usr/local/lib/python3.7/dist-packages (from oauth2client) (1.15.0)\n",
            "Requirement already satisfied: rsa>=3.1.4 in /usr/local/lib/python3.7/dist-packages (from oauth2client) (4.7.2)\n",
            "Requirement already satisfied: httplib2>=0.9.1 in /usr/local/lib/python3.7/dist-packages (from oauth2client) (0.17.4)\n"
          ]
        }
      ]
    },
    {
      "cell_type": "code",
      "metadata": {
        "colab": {
          "base_uri": "https://localhost:8080/"
        },
        "id": "ZR2DkoOnjuaa",
        "outputId": "8143fef0-551b-47f8-deae-401471196996"
      },
      "source": [
        "# Import required modules\n",
        "import gspread\n",
        "from oauth2client.service_account import ServiceAccountCredentials\n",
        "from pprint import pprint\n",
        "\n",
        "scope = [\"https://spreadsheets.google.com/feeds\", 'https://www.googleapis.com/auth/spreadsheets',\n",
        "\t\t\"https://www.googleapis.com/auth/drive.file\", \"https://www.googleapis.com/auth/drive\"]\n",
        "\n",
        "\n",
        "\n",
        "# Assign credentials ann path of style sheet\n",
        "creds = ServiceAccountCredentials.from_json_keyfile_name(\"creds.json\", scope)\n",
        "client = gspread.authorize(creds)\n",
        "sheet = client.open(\"test_1\").sheet1\n",
        "\n",
        "\n",
        "\n",
        "# Sisplay data\n",
        "data = sheet.get_all_records()\n",
        "row4 = sheet.row_values(4)\n",
        "col2 = sheet.col_values(2)\n",
        "cell = sheet.cell(5, 2).value\n",
        "\n",
        "print(\"Column 2 Data : \")\n",
        "pprint(col2)\n",
        "print(\"\\nRow 4 Data : \")\n",
        "pprint(row4)\n",
        "print(\"\\nCell (5,2) Data : \")\n",
        "pprint(cell)\n",
        "print(\"\\nAll Records : \")\n",
        "pprint(data)\n",
        "\n",
        "\n",
        "\n",
        "# Inserting data\n",
        "insertRow = [6, \"Soumodeep Naskar\", \"Purple\"]\n",
        "sheet.insert_row(insertRow, 4)\n",
        "print(\"\\nAll Records after inserting new row : \")\n",
        "pprint(data)\n",
        "\n",
        "\n",
        "\n",
        "# Deleting data\n",
        "sheet.delete_row(7)\n",
        "print(\"\\nAll Records after deleting row 7 : \")\n",
        "pprint(data)\n",
        "\n",
        "\n",
        "\n",
        "# Update a cell\n",
        "sheet.update_cell(5, 2, \"Nitin Das\")\n",
        "print(\"\\nAll Records after updating cell (5,2) : \")\n",
        "pprint(data)\n",
        "\n",
        "\n",
        "\n",
        "# Display no. of rows, columns\n",
        "# and no. of rows having content\n",
        "numRows = sheet.row_count\n",
        "numCol = sheet.col_count\n",
        "print(\"Number of Rows : \", numRows)\n",
        "print(\"Number of Columns : \", numCol)\n",
        "print(\"Number of Rows having content : \", len(data))\n"
      ],
      "execution_count": null,
      "outputs": [
        {
          "output_type": "stream",
          "name": "stdout",
          "text": [
            "Column 2 Data : \n",
            "['no', '1', '2', '3', '4']\n",
            "\n",
            "Row 4 Data : \n",
            "['jeevitha', '3']\n",
            "\n",
            "Cell (5,2) Data : \n",
            "'4'\n",
            "\n",
            "All Records : \n",
            "[{'name': 'jeevi', 'no': 1},\n",
            " {'name': 'monesh', 'no': 2},\n",
            " {'name': 'jeevitha', 'no': 3},\n",
            " {'name': 'panda', 'no': 4}]\n",
            "\n",
            "All Records after inserting new row : \n",
            "[{'name': 'jeevi', 'no': 1},\n",
            " {'name': 'monesh', 'no': 2},\n",
            " {'name': 'jeevitha', 'no': 3},\n",
            " {'name': 'panda', 'no': 4}]\n",
            "\n",
            "All Records after deleting row 7 : \n",
            "[{'name': 'jeevi', 'no': 1},\n",
            " {'name': 'monesh', 'no': 2},\n",
            " {'name': 'jeevitha', 'no': 3},\n",
            " {'name': 'panda', 'no': 4}]\n",
            "\n",
            "All Records after updating cell (5,2) : \n",
            "[{'name': 'jeevi', 'no': 1},\n",
            " {'name': 'monesh', 'no': 2},\n",
            " {'name': 'jeevitha', 'no': 3},\n",
            " {'name': 'panda', 'no': 4}]\n",
            "Number of Rows :  1000\n",
            "Number of Columns :  26\n",
            "Number of Rows having content :  4\n"
          ]
        }
      ]
    },
    {
      "cell_type": "code",
      "metadata": {
        "id": "ul3IgGFQlUuR"
      },
      "source": [
        ""
      ],
      "execution_count": null,
      "outputs": []
    }
  ]
}