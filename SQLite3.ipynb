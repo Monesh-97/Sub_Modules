{
  "nbformat": 4,
  "nbformat_minor": 0,
  "metadata": {
    "colab": {
      "name": "SQLite3.ipynb",
      "provenance": [],
      "collapsed_sections": [],
      "include_colab_link": true
    },
    "kernelspec": {
      "name": "python3",
      "display_name": "Python 3"
    }
  },
  "cells": [
    {
      "cell_type": "markdown",
      "metadata": {
        "id": "view-in-github",
        "colab_type": "text"
      },
      "source": [
        "<a href=\"https://colab.research.google.com/github/moneshj/Cloud_Computing_Notes/blob/main/SQLite3.ipynb\" target=\"_parent\"><img src=\"https://colab.research.google.com/assets/colab-badge.svg\" alt=\"Open In Colab\"/></a>"
      ]
    },
    {
      "cell_type": "markdown",
      "metadata": {
        "id": "dHaT0qjDVhjX"
      },
      "source": [
        "# Intro"
      ]
    },
    {
      "cell_type": "code",
      "metadata": {
        "id": "3xzFcTDJQZ5D",
        "colab": {
          "base_uri": "https://localhost:8080/"
        },
        "outputId": "979b0c7b-3c42-4727-ddd0-9eab75dbcd29"
      },
      "source": [
        "!pip install db-sqlite3"
      ],
      "execution_count": null,
      "outputs": [
        {
          "output_type": "stream",
          "text": [
            "Collecting db-sqlite3\n",
            "  Downloading https://files.pythonhosted.org/packages/ff/00/e1f3d7bf1e0bff7c0574c0d5535c041e139d4ce43db196147e4c62f52ed5/db-sqlite3-0.0.1.tar.gz\n",
            "Collecting db\n",
            "  Downloading https://files.pythonhosted.org/packages/a9/22/f65d64c83e63790b3273c6adb3bff338ad594f46d84b41bd1f94593b40a6/db-0.1.1.tar.gz\n",
            "Collecting antiorm\n",
            "\u001b[?25l  Downloading https://files.pythonhosted.org/packages/0b/f8/71baa4824d9666c1be51d117119579a97f461ddbded48b2e01a6ad0554b5/antiorm-1.2.1.tar.gz (171kB)\n",
            "\u001b[K     |████████████████████████████████| 174kB 25.4MB/s \n",
            "\u001b[?25hBuilding wheels for collected packages: db-sqlite3, db, antiorm\n",
            "  Building wheel for db-sqlite3 (setup.py) ... \u001b[?25l\u001b[?25hdone\n",
            "  Created wheel for db-sqlite3: filename=db_sqlite3-0.0.1-cp37-none-any.whl size=1796 sha256=9c72efb4ea115ac9214896ff70b51a9322a9ef5c5267058e81546749b1798fa7\n",
            "  Stored in directory: /root/.cache/pip/wheels/e0/f8/cb/08e3a3a63bdea9ac3a0cccd140636b6cf94e3fb7df1070b12e\n",
            "  Building wheel for db (setup.py) ... \u001b[?25l\u001b[?25hdone\n",
            "  Created wheel for db: filename=db-0.1.1-cp37-none-any.whl size=3894 sha256=597db1ff5ab0c51588876c0efcfd8e79009b42dafeb53f2dd992f6c13c44e3d7\n",
            "  Stored in directory: /root/.cache/pip/wheels/30/eb/ba/237fa002d1d1b2e73cedcefd26a9db37c4b72c7e5156ea0501\n",
            "  Building wheel for antiorm (setup.py) ... \u001b[?25l\u001b[?25hdone\n",
            "  Created wheel for antiorm: filename=antiorm-1.2.1-cp37-none-any.whl size=31668 sha256=6e0a7399d15e7193284decd0193e9b903f873ce2697462383d1c691b30ece0f6\n",
            "  Stored in directory: /root/.cache/pip/wheels/b0/91/4d/f8fe808786ff1cda9e7e99e1b1bbda9196ab26786017965313\n",
            "Successfully built db-sqlite3 db antiorm\n",
            "Installing collected packages: antiorm, db, db-sqlite3\n",
            "Successfully installed antiorm-1.2.1 db-0.1.1 db-sqlite3-0.0.1\n"
          ],
          "name": "stdout"
        }
      ]
    },
    {
      "cell_type": "code",
      "metadata": {
        "id": "G6sqzP_tJIEe"
      },
      "source": [
        "import pandas as pd\n",
        "import sqlite3\n",
        "from datetime import date"
      ],
      "execution_count": null,
      "outputs": []
    },
    {
      "cell_type": "code",
      "metadata": {
        "id": "mlehKdxUJSz-"
      },
      "source": [
        "#connecting with the database.\n",
        "db = sqlite3.connect(\"testing.db\")\n",
        "db.execute(\"drop table if exists results\")\n",
        "try:\n",
        "  db.execute(\"create table results(Name text, Date datetime, Mobile text,Mail text)\")\n",
        "except:\n",
        "  print(\"Already table existed !!\")"
      ],
      "execution_count": null,
      "outputs": []
    },
    {
      "cell_type": "code",
      "metadata": {
        "id": "CMZAQq2UJdGM"
      },
      "source": [
        "db = sqlite3.connect(\"testing.db\")"
      ],
      "execution_count": null,
      "outputs": []
    },
    {
      "cell_type": "code",
      "metadata": {
        "id": "6wWnSqtNKXUq"
      },
      "source": [
        "Date = date.today().strftime(\"%d-%m-%Y\")\n",
        "Name = \"TestDemo\"\n",
        "Mobile = \"9000011101\"\n",
        "Mail = \"moneshkalavai@gmail.com\""
      ],
      "execution_count": null,
      "outputs": []
    },
    {
      "cell_type": "code",
      "metadata": {
        "id": "Hjz8_W4WJjH2"
      },
      "source": [
        "cmd = \"insert into results(Name, Mobile,Date,Mail) values('{}','{}','{}','{}')\".format(Name,Mobile,Date,Mail)\n",
        "db.execute(cmd)\n",
        "db.commit()"
      ],
      "execution_count": null,
      "outputs": []
    },
    {
      "cell_type": "markdown",
      "metadata": {
        "id": "tc_glreoVTcB"
      },
      "source": [
        "# Querying"
      ]
    },
    {
      "cell_type": "markdown",
      "metadata": {
        "id": "eJG6fARCRihM"
      },
      "source": [
        "### Type - 1 Querying\n"
      ]
    },
    {
      "cell_type": "code",
      "metadata": {
        "id": "FB1zxYVmRnj2",
        "colab": {
          "base_uri": "https://localhost:8080/"
        },
        "outputId": "8ad9f4c2-5f04-4b50-ef0d-087d48e35575"
      },
      "source": [
        "db = sqlite3.connect(\"testing.db\")\n",
        "rs = db.execute('SELECT * FROM results')\n",
        "for row in rs:\n",
        "    print (row)"
      ],
      "execution_count": null,
      "outputs": [
        {
          "output_type": "stream",
          "text": [
            "('TestDemo', '11-05-2021', '9000011101', 'moneshkalavai@gmail.com')\n"
          ],
          "name": "stdout"
        }
      ]
    },
    {
      "cell_type": "markdown",
      "metadata": {
        "id": "gBb1T3W2R2T9"
      },
      "source": [
        "### Type - 2 Querying\n"
      ]
    },
    {
      "cell_type": "code",
      "metadata": {
        "id": "QsaSr2oJJpz8",
        "colab": {
          "base_uri": "https://localhost:8080/",
          "height": 76
        },
        "outputId": "59c14e54-82f3-457e-9991-2419def1e12a"
      },
      "source": [
        "db = sqlite3.connect(\"testing.db\")\n",
        "qry = \"\"\"\n",
        "\n",
        "SELECT * FROM results\n",
        "\n",
        "\"\"\"\n",
        "df = pd.read_sql_query(qry, db)\n",
        "df.head()"
      ],
      "execution_count": null,
      "outputs": [
        {
          "output_type": "execute_result",
          "data": {
            "text/html": [
              "<div>\n",
              "<style scoped>\n",
              "    .dataframe tbody tr th:only-of-type {\n",
              "        vertical-align: middle;\n",
              "    }\n",
              "\n",
              "    .dataframe tbody tr th {\n",
              "        vertical-align: top;\n",
              "    }\n",
              "\n",
              "    .dataframe thead th {\n",
              "        text-align: right;\n",
              "    }\n",
              "</style>\n",
              "<table border=\"1\" class=\"dataframe\">\n",
              "  <thead>\n",
              "    <tr style=\"text-align: right;\">\n",
              "      <th></th>\n",
              "      <th>Name</th>\n",
              "      <th>Date</th>\n",
              "      <th>Mobile</th>\n",
              "      <th>Mail</th>\n",
              "    </tr>\n",
              "  </thead>\n",
              "  <tbody>\n",
              "    <tr>\n",
              "      <th>0</th>\n",
              "      <td>TestDemo</td>\n",
              "      <td>11-05-2021</td>\n",
              "      <td>9000011101</td>\n",
              "      <td>moneshkalavai@gmail.com</td>\n",
              "    </tr>\n",
              "  </tbody>\n",
              "</table>\n",
              "</div>"
            ],
            "text/plain": [
              "       Name        Date      Mobile                     Mail\n",
              "0  TestDemo  11-05-2021  9000011101  moneshkalavai@gmail.com"
            ]
          },
          "metadata": {
            "tags": []
          },
          "execution_count": 8
        }
      ]
    },
    {
      "cell_type": "code",
      "metadata": {
        "id": "kLlGBkZeJsSe"
      },
      "source": [
        ""
      ],
      "execution_count": null,
      "outputs": []
    },
    {
      "cell_type": "markdown",
      "metadata": {
        "id": "DRgujp1WVJ5i"
      },
      "source": [
        "# Batch-wise data storage\n"
      ]
    },
    {
      "cell_type": "code",
      "metadata": {
        "id": "UYYvaXHvJQ6V"
      },
      "source": [
        "\n",
        "def pushtoDB(Name,Mobile,Mail):\n",
        "#inserting values inside the created table\n",
        "    db = sqlite3.connect(\"testing.db\")    \n",
        "    from datetime import date\n",
        "    \n",
        "    Date = date.today().strftime(\"%t-%d-%m-%Y\")\n",
        "    cmd = \"insert into results(Name, Mobile,Date,Mail) values('{}','{}','{}','{}')\".format(Name,Mobile,Date,Mail)\n",
        "    db.execute(cmd)\n",
        "    db.commit()"
      ],
      "execution_count": null,
      "outputs": []
    },
    {
      "cell_type": "code",
      "metadata": {
        "id": "YcK8SCDBNQN8",
        "colab": {
          "base_uri": "https://localhost:8080/"
        },
        "outputId": "0f43ce6c-24b0-4df8-86ca-db6449fbc800"
      },
      "source": [
        "data = pd.read_csv(\"dummy.csv\")\n",
        "data.head()\n",
        "data.shape"
      ],
      "execution_count": null,
      "outputs": [
        {
          "output_type": "execute_result",
          "data": {
            "text/plain": [
              "(1128, 3)"
            ]
          },
          "metadata": {
            "tags": []
          },
          "execution_count": 12
        }
      ]
    },
    {
      "cell_type": "code",
      "metadata": {
        "id": "ECvGxKrAP0Kt",
        "colab": {
          "base_uri": "https://localhost:8080/"
        },
        "outputId": "e9f97a11-ba70-4e35-94b4-4b30fc47277a"
      },
      "source": [
        "!git clone https://github.com/kiranbeethoju/TeachingMachine.git"
      ],
      "execution_count": null,
      "outputs": [
        {
          "output_type": "stream",
          "text": [
            "Cloning into 'TeachingMachine'...\n",
            "remote: Enumerating objects: 9, done.\u001b[K\n",
            "remote: Counting objects: 100% (9/9), done.\u001b[K\n",
            "remote: Compressing objects: 100% (8/8), done.\u001b[K\n",
            "remote: Total 9 (delta 2), reused 0 (delta 0), pack-reused 0\u001b[K\n",
            "Unpacking objects: 100% (9/9), done.\n"
          ],
          "name": "stdout"
        }
      ]
    },
    {
      "cell_type": "code",
      "metadata": {
        "id": "RIQuoYbgN3NE"
      },
      "source": [
        "pushtoDB(\"Testttt\",\"121\",\"2112\")"
      ],
      "execution_count": null,
      "outputs": []
    },
    {
      "cell_type": "code",
      "metadata": {
        "id": "K0SVabEGOFMY",
        "colab": {
          "base_uri": "https://localhost:8080/",
          "height": 194
        },
        "outputId": "a254ff5b-ae8f-4a30-c585-eebf39747dd4"
      },
      "source": [
        "db = sqlite3.connect(\"testing.db\")\n",
        "qry = \"SELECT * FROM results\"\n",
        "df = pd.read_sql_query(qry, db)\n",
        "df.head()"
      ],
      "execution_count": null,
      "outputs": [
        {
          "output_type": "execute_result",
          "data": {
            "text/html": [
              "<div>\n",
              "<style scoped>\n",
              "    .dataframe tbody tr th:only-of-type {\n",
              "        vertical-align: middle;\n",
              "    }\n",
              "\n",
              "    .dataframe tbody tr th {\n",
              "        vertical-align: top;\n",
              "    }\n",
              "\n",
              "    .dataframe thead th {\n",
              "        text-align: right;\n",
              "    }\n",
              "</style>\n",
              "<table border=\"1\" class=\"dataframe\">\n",
              "  <thead>\n",
              "    <tr style=\"text-align: right;\">\n",
              "      <th></th>\n",
              "      <th>Name</th>\n",
              "      <th>Date</th>\n",
              "      <th>Mobile</th>\n",
              "      <th>Mail</th>\n",
              "    </tr>\n",
              "  </thead>\n",
              "  <tbody>\n",
              "    <tr>\n",
              "      <th>0</th>\n",
              "      <td>TestDemo</td>\n",
              "      <td>11-05-2021</td>\n",
              "      <td>9000011101</td>\n",
              "      <td>moneshkalavai@gmail.com</td>\n",
              "    </tr>\n",
              "    <tr>\n",
              "      <th>1</th>\n",
              "      <td>Testttt</td>\n",
              "      <td>11-05-2021</td>\n",
              "      <td>121</td>\n",
              "      <td>2112</td>\n",
              "    </tr>\n",
              "    <tr>\n",
              "      <th>2</th>\n",
              "      <td>Test1</td>\n",
              "      <td>11-05-2021</td>\n",
              "      <td>9000000000</td>\n",
              "      <td>testermail1@gmail.com</td>\n",
              "    </tr>\n",
              "    <tr>\n",
              "      <th>3</th>\n",
              "      <td>Test2</td>\n",
              "      <td>11-05-2021</td>\n",
              "      <td>9000000001</td>\n",
              "      <td>testermail2@gmail.com</td>\n",
              "    </tr>\n",
              "    <tr>\n",
              "      <th>4</th>\n",
              "      <td>Test3</td>\n",
              "      <td>11-05-2021</td>\n",
              "      <td>9000000002</td>\n",
              "      <td>testermail3@gmail.com</td>\n",
              "    </tr>\n",
              "  </tbody>\n",
              "</table>\n",
              "</div>"
            ],
            "text/plain": [
              "       Name        Date      Mobile                     Mail\n",
              "0  TestDemo  11-05-2021  9000011101  moneshkalavai@gmail.com\n",
              "1   Testttt  11-05-2021         121                     2112\n",
              "2     Test1  11-05-2021  9000000000    testermail1@gmail.com\n",
              "3     Test2  11-05-2021  9000000001    testermail2@gmail.com\n",
              "4     Test3  11-05-2021  9000000002    testermail3@gmail.com"
            ]
          },
          "metadata": {
            "tags": []
          },
          "execution_count": 22
        }
      ]
    },
    {
      "cell_type": "markdown",
      "metadata": {
        "id": "E2t2KMm6QSvG"
      },
      "source": [
        "## passing the csv values into database"
      ]
    },
    {
      "cell_type": "code",
      "metadata": {
        "id": "wX7mL6_fNSsd"
      },
      "source": [
        "for i in range(0,len(data)):\n",
        "  pushtoDB(data.iloc[i][0],data.iloc[i][1],data.iloc[i][2])"
      ],
      "execution_count": null,
      "outputs": []
    },
    {
      "cell_type": "code",
      "metadata": {
        "id": "OGbz2eLVNaPB",
        "colab": {
          "base_uri": "https://localhost:8080/",
          "height": 76
        },
        "outputId": "75a63ba2-1719-472a-ca16-69a60f6d3445"
      },
      "source": [
        "db = sqlite3.connect(\"testing.db\")\n",
        "qry = \"\"\"\n",
        "\n",
        "SELECT * FROM results WHERE Name=\"TestDemo\"\n",
        "\n",
        "\"\"\"\n",
        "df = pd.read_sql_query(qry, db)\n",
        "df.head()"
      ],
      "execution_count": null,
      "outputs": [
        {
          "output_type": "execute_result",
          "data": {
            "text/html": [
              "<div>\n",
              "<style scoped>\n",
              "    .dataframe tbody tr th:only-of-type {\n",
              "        vertical-align: middle;\n",
              "    }\n",
              "\n",
              "    .dataframe tbody tr th {\n",
              "        vertical-align: top;\n",
              "    }\n",
              "\n",
              "    .dataframe thead th {\n",
              "        text-align: right;\n",
              "    }\n",
              "</style>\n",
              "<table border=\"1\" class=\"dataframe\">\n",
              "  <thead>\n",
              "    <tr style=\"text-align: right;\">\n",
              "      <th></th>\n",
              "      <th>Name</th>\n",
              "      <th>Date</th>\n",
              "      <th>Mobile</th>\n",
              "      <th>Mail</th>\n",
              "    </tr>\n",
              "  </thead>\n",
              "  <tbody>\n",
              "    <tr>\n",
              "      <th>0</th>\n",
              "      <td>TestDemo</td>\n",
              "      <td>11-05-2021</td>\n",
              "      <td>9000011101</td>\n",
              "      <td>moneshkalavai@gmail.com</td>\n",
              "    </tr>\n",
              "  </tbody>\n",
              "</table>\n",
              "</div>"
            ],
            "text/plain": [
              "       Name        Date      Mobile                     Mail\n",
              "0  TestDemo  11-05-2021  9000011101  moneshkalavai@gmail.com"
            ]
          },
          "metadata": {
            "tags": []
          },
          "execution_count": 16
        }
      ]
    },
    {
      "cell_type": "code",
      "metadata": {
        "id": "HqvtcTvTa599",
        "colab": {
          "base_uri": "https://localhost:8080/",
          "height": 194
        },
        "outputId": "8f40bd03-6e0a-4dd2-f4b9-fceadee21aa2"
      },
      "source": [
        "qry = \" SELECT * FROM results \"\n",
        "df = pd.read_sql_query(qry,db)\n",
        "df.head()"
      ],
      "execution_count": null,
      "outputs": [
        {
          "output_type": "execute_result",
          "data": {
            "text/html": [
              "<div>\n",
              "<style scoped>\n",
              "    .dataframe tbody tr th:only-of-type {\n",
              "        vertical-align: middle;\n",
              "    }\n",
              "\n",
              "    .dataframe tbody tr th {\n",
              "        vertical-align: top;\n",
              "    }\n",
              "\n",
              "    .dataframe thead th {\n",
              "        text-align: right;\n",
              "    }\n",
              "</style>\n",
              "<table border=\"1\" class=\"dataframe\">\n",
              "  <thead>\n",
              "    <tr style=\"text-align: right;\">\n",
              "      <th></th>\n",
              "      <th>Name</th>\n",
              "      <th>Date</th>\n",
              "      <th>Mobile</th>\n",
              "      <th>Mail</th>\n",
              "    </tr>\n",
              "  </thead>\n",
              "  <tbody>\n",
              "    <tr>\n",
              "      <th>0</th>\n",
              "      <td>TestDemo</td>\n",
              "      <td>11-05-2021</td>\n",
              "      <td>9000011101</td>\n",
              "      <td>moneshkalavai@gmail.com</td>\n",
              "    </tr>\n",
              "    <tr>\n",
              "      <th>1</th>\n",
              "      <td>Testttt</td>\n",
              "      <td>11-05-2021</td>\n",
              "      <td>121</td>\n",
              "      <td>2112</td>\n",
              "    </tr>\n",
              "    <tr>\n",
              "      <th>2</th>\n",
              "      <td>Test1</td>\n",
              "      <td>11-05-2021</td>\n",
              "      <td>9000000000</td>\n",
              "      <td>testermail1@gmail.com</td>\n",
              "    </tr>\n",
              "    <tr>\n",
              "      <th>3</th>\n",
              "      <td>Test2</td>\n",
              "      <td>11-05-2021</td>\n",
              "      <td>9000000001</td>\n",
              "      <td>testermail2@gmail.com</td>\n",
              "    </tr>\n",
              "    <tr>\n",
              "      <th>4</th>\n",
              "      <td>Test3</td>\n",
              "      <td>11-05-2021</td>\n",
              "      <td>9000000002</td>\n",
              "      <td>testermail3@gmail.com</td>\n",
              "    </tr>\n",
              "  </tbody>\n",
              "</table>\n",
              "</div>"
            ],
            "text/plain": [
              "       Name        Date      Mobile                     Mail\n",
              "0  TestDemo  11-05-2021  9000011101  moneshkalavai@gmail.com\n",
              "1   Testttt  11-05-2021         121                     2112\n",
              "2     Test1  11-05-2021  9000000000    testermail1@gmail.com\n",
              "3     Test2  11-05-2021  9000000001    testermail2@gmail.com\n",
              "4     Test3  11-05-2021  9000000002    testermail3@gmail.com"
            ]
          },
          "metadata": {
            "tags": []
          },
          "execution_count": 17
        }
      ]
    },
    {
      "cell_type": "code",
      "metadata": {
        "id": "Ey03WpgOQzJS",
        "colab": {
          "base_uri": "https://localhost:8080/"
        },
        "outputId": "0c16d442-cafc-4a68-ecb2-9498d5d06e4e"
      },
      "source": [
        "df.shape"
      ],
      "execution_count": null,
      "outputs": [
        {
          "output_type": "execute_result",
          "data": {
            "text/plain": [
              "(1130, 4)"
            ]
          },
          "metadata": {
            "tags": []
          },
          "execution_count": 18
        }
      ]
    }
  ]
}