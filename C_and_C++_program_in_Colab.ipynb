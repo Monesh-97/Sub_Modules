{
  "nbformat": 4,
  "nbformat_minor": 0,
  "metadata": {
    "colab": {
      "name": "C  and C++ program in Colab.ipynb",
      "provenance": [],
      "collapsed_sections": [
        "X3K37yrbifJc",
        "yDQcsGLhijOJ"
      ]
    },
    "kernelspec": {
      "name": "python3",
      "display_name": "Python 3"
    },
    "language_info": {
      "name": "python"
    }
  },
  "cells": [
    {
      "cell_type": "markdown",
      "metadata": {
        "id": "jBzL-YjpjOq7"
      },
      "source": [
        "Reference Links :"
      ]
    },
    {
      "cell_type": "markdown",
      "metadata": {
        "id": "c_ej0pzxiJkr"
      },
      "source": [
        "\n",
        "*   https://cppsecrets.com/users/1102811497104117108109111104116975048484864103109971051084699111109/How-to-run-C-and-C00-on-Google-Colab.php\n",
        "*   https://www.geeksforgeeks.org/how-to-run-cuda-c-c-on-jupyter-notebook-in-google-colaboratory/\n",
        "\n"
      ]
    },
    {
      "cell_type": "markdown",
      "metadata": {
        "id": "X3K37yrbifJc"
      },
      "source": [
        "# For C\n"
      ]
    },
    {
      "cell_type": "code",
      "metadata": {
        "id": "2aH0NWTwWxLv",
        "colab": {
          "base_uri": "https://localhost:8080/"
        },
        "outputId": "df5673e5-f3cc-4052-ab09-a4a0b8f993dd"
      },
      "source": [
        "%%writefile mon.c\n",
        "#include <stdio.h>\n",
        "int main(void)\n",
        "{\n",
        "\tprintf(\"GeeksQuiz\");\n",
        "\treturn 0;\n",
        "}\n"
      ],
      "execution_count": null,
      "outputs": [
        {
          "output_type": "stream",
          "name": "stdout",
          "text": [
            "Overwriting mon.c\n"
          ]
        }
      ]
    },
    {
      "cell_type": "code",
      "metadata": {
        "id": "_kw-DSwjW-zE",
        "colab": {
          "base_uri": "https://localhost:8080/"
        },
        "outputId": "bdc4c2c6-5d14-49bb-bca4-c982e3700df4"
      },
      "source": [
        "!ls -l\n"
      ],
      "execution_count": null,
      "outputs": [
        {
          "output_type": "stream",
          "name": "stdout",
          "text": [
            "total 8\n",
            "-rw-r--r-- 1 root root   70 Oct 21 05:51 mon.c\n",
            "drwxr-xr-x 1 root root 4096 Oct  8 13:45 sample_data\n"
          ]
        }
      ]
    },
    {
      "cell_type": "code",
      "metadata": {
        "id": "0grF9AXmXB0A",
        "colab": {
          "base_uri": "https://localhost:8080/"
        },
        "outputId": "f7b4262b-a0d2-46cb-f6ea-125b000d73ea"
      },
      "source": [
        "%%shell\n",
        "gcc mon.c -o output\n",
        "./output"
      ],
      "execution_count": null,
      "outputs": [
        {
          "output_type": "stream",
          "name": "stdout",
          "text": [
            "GeeksQuiz"
          ]
        },
        {
          "output_type": "execute_result",
          "data": {
            "text/plain": [
              ""
            ]
          },
          "metadata": {},
          "execution_count": 10
        }
      ]
    },
    {
      "cell_type": "markdown",
      "metadata": {
        "id": "yDQcsGLhijOJ"
      },
      "source": [
        "# For C++"
      ]
    },
    {
      "cell_type": "code",
      "metadata": {
        "colab": {
          "base_uri": "https://localhost:8080/"
        },
        "id": "EmFmsZxGimHR",
        "outputId": "daae23bd-d9b7-46de-87e7-900d08e25552"
      },
      "source": [
        "%%writefile monesh.cpp\n",
        "#include <iostream>\n",
        "    int\n",
        "    main()\n",
        "{\n",
        "    std::cout << \"Welcome To GeeksforGeeks\\n\";\n",
        "    return 0;\n",
        "}"
      ],
      "execution_count": 1,
      "outputs": [
        {
          "output_type": "stream",
          "name": "stdout",
          "text": [
            "Writing monesh.cpp\n"
          ]
        }
      ]
    },
    {
      "cell_type": "code",
      "metadata": {
        "colab": {
          "base_uri": "https://localhost:8080/"
        },
        "id": "yT8IbA9fi5-9",
        "outputId": "42096c1d-2840-4b05-8db5-b7af1ef5b2fa"
      },
      "source": [
        "%%shell\n",
        "g++ monesh.cpp -o output2\n",
        "./output2"
      ],
      "execution_count": 4,
      "outputs": [
        {
          "output_type": "stream",
          "name": "stdout",
          "text": [
            "Welcome To GeeksforGeeks\n"
          ]
        },
        {
          "output_type": "execute_result",
          "data": {
            "text/plain": [
              ""
            ]
          },
          "metadata": {},
          "execution_count": 4
        }
      ]
    },
    {
      "cell_type": "code",
      "metadata": {
        "id": "TpsQ8Txji8xT"
      },
      "source": [
        ""
      ],
      "execution_count": null,
      "outputs": []
    }
  ]
}